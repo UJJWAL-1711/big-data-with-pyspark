{
 "cells": [
  {
   "cell_type": "markdown",
   "id": "bdc0f0e4-c49e-44d2-bc09-4e1eb9c5ca7d",
   "metadata": {},
   "source": [
    "# PySpark Operations"
   ]
  },
  {
   "cell_type": "markdown",
   "id": "fd124572-7ca4-4dac-b8d4-0e0d70570fe1",
   "metadata": {},
   "source": [
    "Two primary PySpark Operations\n",
    "\n",
    "- Transformations\n",
    "    - Creates new RDDs\n",
    "- Actions\n",
    "    - Performs computations on the RDDs"
   ]
  },
  {
   "cell_type": "markdown",
   "id": "77fb278e-e568-4ef6-9e10-fc42aea73bb3",
   "metadata": {},
   "source": [
    "## Transformation\n",
    "- follows Lazy evaluation\n",
    "- ```map(), filter(), flatMap(), union()```"
   ]
  },
  {
   "cell_type": "markdown",
   "id": "0c885019-54f1-4eae-8297-be3a63f867d9",
   "metadata": {},
   "source": [
    "#### flatMap()"
   ]
  },
  {
   "cell_type": "markdown",
   "id": "4d22bd2d-8ed0-416f-a8fe-0832eeb8d6a4",
   "metadata": {},
   "source": [
    "flatMap transformation returns multiple values for each element in the original RDD (example: split)"
   ]
  },
  {
   "cell_type": "markdown",
   "id": "65e045d2-359a-4a3c-b2af-73c18495bece",
   "metadata": {},
   "source": [
    "```python\n",
    "RDD = sc.parallelize([\"hello world\", \"how are you\"])\n",
    "RDD_flatmap = RDD.flatMap(lambda x:x.split(\" \"))\n",
    "```"
   ]
  },
  {
   "cell_type": "markdown",
   "id": "73ead64e-8133-44bd-af9a-181f74bb1f7b",
   "metadata": {},
   "source": [
    "#### union()"
   ]
  },
  {
   "cell_type": "markdown",
   "id": "4f1645eb-5720-45ec-938e-c99fa38d7f77",
   "metadata": {},
   "source": [
    "returns the union of one RDD with another RDD"
   ]
  },
  {
   "cell_type": "markdown",
   "id": "ecdc54d0-9e38-41c9-8b28-fc8cd0c0de27",
   "metadata": {},
   "source": [
    "```python\n",
    "inputRDD = sc.textFile(\"logs.txt\")\n",
    "errorRDD = inputRDD.filter(lambda x:\"error\" in x.split())\n",
    "warningsRDD = inputRDD.filter(lambda x:\"warnings\" in x.split())\n",
    "combinedRDD = errorRDD.union(warningsRSS)\n",
    "```"
   ]
  },
  {
   "cell_type": "markdown",
   "id": "a7e9fb40-fd67-4a4f-8689-fc522a6c3f61",
   "metadata": {},
   "source": [
    "## Actions"
   ]
  },
  {
   "cell_type": "markdown",
   "id": "b0f81e30-06c6-44d8-a32c-4bcb294ad11a",
   "metadata": {},
   "source": [
    "#### Basic RDD actions\n",
    "\n",
    "- collect()\n",
    "    - returns all elements from RDD\n",
    "- take(N)\n",
    "    - take(N) returns an array with first N elements of the dataset\n",
    "- first()\n",
    "    - returns the first element, similar to take(1)\n",
    "- count()\n",
    "    - returns the no of rows in RDD"
   ]
  }
 ],
 "metadata": {
  "kernelspec": {
   "display_name": "Python 3 (ipykernel)",
   "language": "python",
   "name": "python3"
  },
  "language_info": {
   "codemirror_mode": {
    "name": "ipython",
    "version": 3
   },
   "file_extension": ".py",
   "mimetype": "text/x-python",
   "name": "python",
   "nbconvert_exporter": "python",
   "pygments_lexer": "ipython3",
   "version": "3.8.3"
  }
 },
 "nbformat": 4,
 "nbformat_minor": 5
}

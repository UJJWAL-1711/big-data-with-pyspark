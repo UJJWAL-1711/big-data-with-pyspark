{
 "cells": [
  {
   "cell_type": "markdown",
   "id": "2ec326cf-9426-4fb4-b9ab-0e0ed34b9734",
   "metadata": {},
   "source": [
    "# RDD"
   ]
  },
  {
   "cell_type": "markdown",
   "id": "14b24341-a9c2-4e6b-a674-d6d777c209c2",
   "metadata": {},
   "source": [
    "> RDD = Resilient Distributed Datasets\n",
    "\n",
    "- Resilitent: ability to withstand failures\n",
    "- Distributed: Spanning across several nodes across cluster\n",
    "- Datasets: collection of partition data"
   ]
  },
  {
   "cell_type": "markdown",
   "id": "23af88ef-398b-4e2d-9fa3-8afb97ca11bb",
   "metadata": {},
   "source": [
    "## Creating RDDs\n",
    "- Parrallelizing an existing collection of objects\n",
    "- External datasets:\n",
    "    - Files in HDFs\n",
    "    - Objects in Amazon S3 bucket\n",
    "    - lines in a text file\n",
    "- From existing RDDs"
   ]
  },
  {
   "cell_type": "markdown",
   "id": "f0a1430c-7490-46bd-84df-7a3d9d35bee3",
   "metadata": {},
   "source": [
    "### Parallelized collection "
   ]
  },
  {
   "cell_type": "markdown",
   "id": "89f960e2-8e1d-4dae-baa6-b09465b2306b",
   "metadata": {},
   "source": [
    "```python\n",
    "numRDD = sc.parallelize([1, 2, 3, 4])\n",
    "```"
   ]
  },
  {
   "cell_type": "markdown",
   "id": "a58c51f1-c6a4-4437-ada6-a2268503acfd",
   "metadata": {},
   "source": [
    "```python\n",
    "helloRDD = sc.parallelize(\"Hello World\")\n",
    "```"
   ]
  },
  {
   "cell_type": "markdown",
   "id": "e0b56b95-10d2-4863-92c8-237a43d51b25",
   "metadata": {},
   "source": [
    "### From external dataset"
   ]
  },
  {
   "cell_type": "markdown",
   "id": "5f09273e-5262-436d-ac99-7cfa0cad7ee0",
   "metadata": {},
   "source": [
    "```python\n",
    "fileRDD = sc.textFile(\"Readme.md\")\n",
    "```"
   ]
  },
  {
   "cell_type": "markdown",
   "id": "a51589ec-e5f0-44ff-a2b9-429f0b1c1cc2",
   "metadata": {},
   "source": [
    "### Partitioning in PySpark"
   ]
  },
  {
   "cell_type": "markdown",
   "id": "7dcce98f-b11e-431a-b474-533049d71f47",
   "metadata": {},
   "source": [
    "- A partition is a logical division of a large distributed data set\n",
    "- ```parallelize()``` method\n",
    "- ```numRDD = sc.parallelize(range(20), minPartitions=6)```"
   ]
  },
  {
   "cell_type": "markdown",
   "id": "06c595dd-b6c7-41cf-b13d-b5ad01f4f96e",
   "metadata": {},
   "source": [
    "```python\n",
    "# Check the number of partitions in fileRDD\n",
    "print(\"Number of partitions in fileRDD is\", fileRDD.getNumPartitions())\n",
    "\n",
    "# Create a fileRDD_part from file_path with 5 partitions\n",
    "fileRDD_part = sc.textFile(file_path, minPartitions = 5)\n",
    "\n",
    "# Check the number of partitions in fileRDD_part\n",
    "print(\"Number of partitions in fileRDD_part is\", fileRDD_part.getNumPartitions())\n",
    "```"
   ]
  }
 ],
 "metadata": {
  "kernelspec": {
   "display_name": "Python 3 (ipykernel)",
   "language": "python",
   "name": "python3"
  },
  "language_info": {
   "codemirror_mode": {
    "name": "ipython",
    "version": 3
   },
   "file_extension": ".py",
   "mimetype": "text/x-python",
   "name": "python",
   "nbconvert_exporter": "python",
   "pygments_lexer": "ipython3",
   "version": "3.8.3"
  }
 },
 "nbformat": 4,
 "nbformat_minor": 5
}

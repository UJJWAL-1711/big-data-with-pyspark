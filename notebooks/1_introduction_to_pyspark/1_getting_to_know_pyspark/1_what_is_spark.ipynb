{
 "cells": [
  {
   "cell_type": "markdown",
   "id": "3769155a-35aa-4d5e-ac3a-30a4aa2a6b08",
   "metadata": {},
   "source": [
    "# What is Spark?"
   ]
  },
  {
   "cell_type": "markdown",
   "id": "33817cdc-da73-4374-88db-86fc654cb8de",
   "metadata": {},
   "source": [
    "Spark is a platform for cluster computing. Spark lets you spread data and computations over clusters with multiple nodes (think of each node as a separate computer). Splitting up your data makes it easier to work with very large datasets because each node only works with a small amount of data."
   ]
  },
  {
   "cell_type": "markdown",
   "id": "30450946-ee1b-4ae9-9604-a5a8cf41765a",
   "metadata": {},
   "source": [
    "As each node works on its own subset of the total data, it also carries out a part of the total calculations required, so that both data processing and computations are performed in parallel over the nodes in the cluster. It is a fact that parallel computation can make certain types of programming tasks much faster. "
   ]
  },
  {
   "cell_type": "markdown",
   "id": "f6659107-7e4a-4da7-9fe4-8cd29bbd7e6f",
   "metadata": {},
   "source": [
    "Deciding whether Spark is the best solution:\n",
    "- Is my data too big to work with on a single machine?\n",
    "- Can my calculations be easily parallelized?"
   ]
  },
  {
   "cell_type": "markdown",
   "id": "8f87a35b-26f8-43cf-b5cd-0192dec55da4",
   "metadata": {},
   "source": [
    "How do you connect to a Spark cluster from PySpark?\n",
    "- Create an instance of the SparkContext"
   ]
  },
  {
   "cell_type": "markdown",
   "id": "bed2bb9b-06e7-4459-bba0-47e3332f7f1b",
   "metadata": {},
   "source": [
    "### Dataframes"
   ]
  },
  {
   "cell_type": "markdown",
   "id": "9e589854-dbef-46d0-80fd-db8564f32f21",
   "metadata": {},
   "source": [
    "Spark's core data structure is the RDD (Resilient Distributed Dataset). This is a low level object that lets Spark work its magic by splitting data across multiple nodes in the cluster. However, RDDs are hard to work with directly, so in this course you'll be using the Spark DataFrame abstraction built on top of RDDs."
   ]
  },
  {
   "cell_type": "markdown",
   "id": "32751855-395f-4dcc-a812-ec6034cc7165",
   "metadata": {},
   "source": [
    "The Spark DataFrame was designed to behave a lot like a SQL table (a table with variables in the columns and observations in the rows). Not only are they easier to understand, DataFrames are also more optimized for complicated operations than RDDs."
   ]
  },
  {
   "cell_type": "markdown",
   "id": "62e0261f-a5d9-4c19-834b-6e1c981567fa",
   "metadata": {},
   "source": [
    "Which of the following is an advantage of Spark DataFrames over RDDs?\n",
    "- Operations using DataFrames are automatically optimized."
   ]
  },
  {
   "cell_type": "code",
   "execution_count": 7,
   "id": "3e3226a6-4301-4805-9ff7-88f16f5447e4",
   "metadata": {},
   "outputs": [],
   "source": [
    "import os\n",
    "import pyspark\n",
    "from pyspark.sql import SparkSession"
   ]
  },
  {
   "cell_type": "code",
   "execution_count": 8,
   "id": "7dcee194-c347-4133-8a9e-00c13ac41aea",
   "metadata": {},
   "outputs": [],
   "source": [
    "spark = SparkSession.builder \\\n",
    "    .appName('big_data_with_pyspark')\\\n",
    "    .config('spark.jars', '../../../jars/snowflake-jdbc-3.13.6.jar,../../../jars/spark-snowflake_2.12-2.9.0-spark_3.1.jar') \\\n",
    "    .getOrCreate()\n",
    "\n",
    "df = spark.read.csv('datasets/flights.csv')\n",
    "df.createOrReplaceTempView(\"flights\")"
   ]
  },
  {
   "cell_type": "code",
   "execution_count": null,
   "id": "b34e291d-189b-40f4-a749-6825396f3716",
   "metadata": {},
   "outputs": [],
   "source": []
  }
 ],
 "metadata": {
  "kernelspec": {
   "display_name": "Python 3 (ipykernel)",
   "language": "python",
   "name": "python3"
  },
  "language_info": {
   "codemirror_mode": {
    "name": "ipython",
    "version": 3
   },
   "file_extension": ".py",
   "mimetype": "text/x-python",
   "name": "python",
   "nbconvert_exporter": "python",
   "pygments_lexer": "ipython3",
   "version": "3.8.3"
  }
 },
 "nbformat": 4,
 "nbformat_minor": 5
}
